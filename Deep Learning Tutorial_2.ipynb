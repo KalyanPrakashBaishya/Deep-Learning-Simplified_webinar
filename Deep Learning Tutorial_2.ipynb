{
 "cells": [
  {
   "cell_type": "code",
   "execution_count": 1,
   "metadata": {},
   "outputs": [
    {
     "data": {
      "text/plain": [
       "'C:\\\\Users\\\\Administrator\\\\Python_work\\\\Edureka'"
      ]
     },
     "execution_count": 1,
     "metadata": {},
     "output_type": "execute_result"
    }
   ],
   "source": [
    "# Enabling print for all lines\n",
    "from IPython.core.interactiveshell import InteractiveShell\n",
    "InteractiveShell.ast_node_interactivity = \"all\"\n",
    "\n",
    "# Checking the working directory\n",
    "import os\n",
    "os.getcwd()"
   ]
  },
  {
   "cell_type": "code",
   "execution_count": 2,
   "metadata": {},
   "outputs": [],
   "source": [
    "# Import libraries\n",
    "import pandas as pd\n",
    "import numpy as np\n",
    "\n",
    "import matplotlib.pyplot as plt\n",
    "%matplotlib inline\n",
    "import seaborn as sns\n",
    "\n",
    "from sklearn.model_selection import train_test_split\n",
    "\n",
    "from sklearn.preprocessing import StandardScaler\n",
    "\n",
    "from keras.models import Sequential\n",
    "from keras.layers import Dense\n",
    "\n",
    "import warnings\n",
    "warnings.filterwarnings('ignore')\n",
    "warnings.simplefilter('ignore')"
   ]
  },
  {
   "cell_type": "code",
   "execution_count": 3,
   "metadata": {},
   "outputs": [
    {
     "data": {
      "text/plain": [
       "(4898, 12)"
      ]
     },
     "execution_count": 3,
     "metadata": {},
     "output_type": "execute_result"
    },
    {
     "data": {
      "text/plain": [
       "(1599, 12)"
      ]
     },
     "execution_count": 3,
     "metadata": {},
     "output_type": "execute_result"
    }
   ],
   "source": [
    "# Read in white wine data \n",
    "white = pd.read_csv(\"http://archive.ics.uci.edu/ml/machine-learning-databases/wine-quality/winequality-white.csv\", sep=';')\n",
    "white.shape\n",
    "\n",
    "# Read in red wine data \n",
    "red = pd.read_csv(\"http://archive.ics.uci.edu/ml/machine-learning-databases/wine-quality/winequality-red.csv\", sep=';')\n",
    "red.shape"
   ]
  },
  {
   "cell_type": "code",
   "execution_count": 4,
   "metadata": {},
   "outputs": [
    {
     "data": {
      "image/png": "[encoded data removed]",
      "text/plain": [
       "<Figure size 432x288 with 2 Axes>"
      ]
     },
     "metadata": {
      "needs_background": "light"
     },
     "output_type": "display_data"
    },
    {
     "name": "stdout",
     "output_type": "stream",
     "text": [
      "(array([  0,   7, 673, 452, 305, 133,  21,   8], dtype=int64), array([ 7,  8,  9, 10, 11, 12, 13, 14, 15]))\n",
      "(array([   0,  317, 1606, 1256,  906,  675,  131,    7], dtype=int64), array([ 7,  8,  9, 10, 11, 12, 13, 14, 15]))\n"
     ]
    },
    {
     "data": {
      "image/png": "[encoded data removed]",
      "text/plain": [
       "<Figure size 576x288 with 2 Axes>"
      ]
     },
     "metadata": {
      "needs_background": "light"
     },
     "output_type": "display_data"
    }
   ],
   "source": [
    "# Plotting the data\n",
    "fig, ax = plt.subplots(1, 2)\n",
    "\n",
    "ax[0].hist(red.alcohol, 10, facecolor='red', alpha=0.5, label=\"Red wine\")\n",
    "ax[1].hist(white.alcohol, 10, facecolor='white', ec=\"black\", lw=0.5, alpha=0.5, label=\"White wine\")\n",
    "\n",
    "fig.subplots_adjust(left=0, right=1, bottom=0, top=0.5, hspace=0.05, wspace=1)\n",
    "ax[0].set_ylim([0, 1000])\n",
    "\n",
    "ax[0].set_xlabel(\"Alcohol in % Vol\"), ax[0].set_ylabel(\"Frequency\")\n",
    "ax[1].set_xlabel(\"Alcohol in % Vol\"), ax[1].set_ylabel(\"Frequency\")\n",
    "#ax[0].legend(loc='best'), ax[1].legend(loc='best')\n",
    "\n",
    "fig.suptitle(\"Distribution of Alcohol in % Vol\")\n",
    "plt.show();\n",
    "\n",
    "print(np.histogram(red.alcohol, bins=[7,8,9,10,11,12,13,14,15]))\n",
    "print(np.histogram(white.alcohol, bins=[7,8,9,10,11,12,13,14,15]))\n",
    "\n",
    "fig, ax = plt.subplots(1, 2, figsize=(8, 4))\n",
    "\n",
    "ax[0].scatter(red['quality'], red[\"sulphates\"], color=\"red\")\n",
    "ax[1].scatter(white['quality'], white['sulphates'], color=\"white\", edgecolors=\"black\", lw=0.5)\n",
    "\n",
    "ax[0].set_title(\"Red Wine\"), ax[1].set_title(\"White Wine\")\n",
    "ax[0].set_xlabel(\"Quality\"), ax[1].set_xlabel(\"Quality\")\n",
    "ax[0].set_ylabel(\"Sulphates\"), ax[1].set_ylabel(\"Sulphates\")\n",
    "\n",
    "ax[0].set_xlim([0,10]), ax[1].set_xlim([0,10])\n",
    "ax[0].set_ylim([0,2.5]), ax[1].set_ylim([0,2.5])\n",
    "\n",
    "fig.subplots_adjust(wspace=0.5)\n",
    "fig.suptitle(\"Wine Quality by Amount of Sulphates\")\n",
    "plt.show();"
   ]
  },
  {
   "cell_type": "code",
   "execution_count": 5,
   "metadata": {},
   "outputs": [],
   "source": [
    "# Add `type` column to `red` with value 1\n",
    "red['type'] = 1\n",
    "# Add `type` column to `white` with value 0\n",
    "white['type'] = 0\n",
    "\n",
    "# Append `white` to `red`\n",
    "wines = red.append(white, ignore_index=True)"
   ]
  },
  {
   "cell_type": "code",
   "execution_count": 6,
   "metadata": {},
   "outputs": [
    {
     "data": {
      "text/plain": [
       "(6497, 13)"
      ]
     },
     "execution_count": 6,
     "metadata": {},
     "output_type": "execute_result"
    },
    {
     "data": {
      "text/plain": [
       "Index(['fixed acidity', 'volatile acidity', 'citric acid', 'residual sugar',\n",
       "       'chlorides', 'free sulfur dioxide', 'total sulfur dioxide', 'density',\n",
       "       'pH', 'sulphates', 'alcohol', 'quality', 'type'],\n",
       "      dtype='object')"
      ]
     },
     "execution_count": 6,
     "metadata": {},
     "output_type": "execute_result"
    }
   ],
   "source": [
    "# Checking the wine data\n",
    "wines.shape\n",
    "wines.columns"
   ]
  },
  {
   "cell_type": "code",
   "execution_count": 7,
   "metadata": {},
   "outputs": [
    {
     "data": {
      "image/png": "[encoded data removed]",
      "text/plain": [
       "<Figure size 432x288 with 2 Axes>"
      ]
     },
     "metadata": {
      "needs_background": "light"
     },
     "output_type": "display_data"
    }
   ],
   "source": [
    "# Building the correlation plot\n",
    "corr = wines.corr()\n",
    "sns.heatmap(corr, xticklabels=corr.columns.values, yticklabels=corr.columns.values);"
   ]
  },
  {
   "cell_type": "code",
   "execution_count": 8,
   "metadata": {},
   "outputs": [
    {
     "name": "stdout",
     "output_type": "stream",
     "text": [
      "X_train shape (4352, 11)\n",
      "y_train shape (4352,)\n",
      "X_test shape (2145, 11)\n",
      "y_test shape (2145,)\n"
     ]
    }
   ],
   "source": [
    "# Split the data into train and test for bilding the model\n",
    "\n",
    "# Specify the data \n",
    "X=wines.iloc[:,0:11]\n",
    "\n",
    "# Specify the target labels and flatten the array \n",
    "y=np.ravel(wines.type)\n",
    "\n",
    "# Split the data up in train and test sets\n",
    "X_train, X_test, y_train, y_test = train_test_split(X, y, test_size=0.33, random_state=42)\n",
    "print(\"X_train shape\", X_train.shape)\n",
    "print(\"y_train shape\", y_train.shape)\n",
    "print(\"X_test shape\", X_test.shape)\n",
    "print(\"y_test shape\", y_test.shape)"
   ]
  },
  {
   "cell_type": "code",
   "execution_count": 9,
   "metadata": {},
   "outputs": [],
   "source": [
    "# Scaling the train data before building the model\n",
    "\n",
    "# Define the scaler \n",
    "scaler = StandardScaler().fit(X_train)\n",
    "\n",
    "# Scale the train set\n",
    "X_train = scaler.transform(X_train)\n",
    "\n",
    "# Scale the test set\n",
    "X_test = scaler.transform(X_test)"
   ]
  },
  {
   "cell_type": "code",
   "execution_count": 10,
   "metadata": {},
   "outputs": [
    {
     "data": {
      "text/plain": [
       "(None, 1)"
      ]
     },
     "execution_count": 10,
     "metadata": {},
     "output_type": "execute_result"
    },
    {
     "name": "stdout",
     "output_type": "stream",
     "text": [
      "Model: \"sequential\"\n",
      "_________________________________________________________________\n",
      "Layer (type)                 Output Shape              Param #   \n",
      "=================================================================\n",
      "dense (Dense)                (None, 12)                144       \n",
      "_________________________________________________________________\n",
      "dense_1 (Dense)              (None, 8)                 104       \n",
      "_________________________________________________________________\n",
      "dense_2 (Dense)              (None, 1)                 9         \n",
      "=================================================================\n",
      "Total params: 257\n",
      "Trainable params: 257\n",
      "Non-trainable params: 0\n",
      "_________________________________________________________________\n"
     ]
    }
   ],
   "source": [
    "# Initialize the constructor\n",
    "model = Sequential()\n",
    "\n",
    "# Add an input layer \n",
    "model.add(Dense(12, activation='relu', input_shape=(11,)))\n",
    "\n",
    "# Add one hidden layer \n",
    "model.add(Dense(8, activation='relu'))\n",
    "\n",
    "# Add an output layer \n",
    "model.add(Dense(1, activation='sigmoid'))\n",
    "\n",
    "# Model output shape\n",
    "model.output_shape\n",
    "\n",
    "# Model summary\n",
    "model.summary()"
   ]
  },
  {
   "cell_type": "code",
   "execution_count": 11,
   "metadata": {},
   "outputs": [
    {
     "data": {
      "text/plain": [
       "{'name': 'sequential',\n",
       " 'layers': [{'class_name': 'InputLayer',\n",
       "   'config': {'batch_input_shape': (None, 11),\n",
       "    'dtype': 'float32',\n",
       "    'sparse': False,\n",
       "    'ragged': False,\n",
       "    'name': 'dense_input'}},\n",
       "  {'class_name': 'Dense',\n",
       "   'config': {'name': 'dense',\n",
       "    'trainable': True,\n",
       "    'batch_input_shape': (None, 11),\n",
       "    'dtype': 'float32',\n",
       "    'units': 12,\n",
       "    'activation': 'relu',\n",
       "    'use_bias': True,\n",
       "    'kernel_initializer': {'class_name': 'GlorotUniform',\n",
       "     'config': {'seed': None}},\n",
       "    'bias_initializer': {'class_name': 'Zeros', 'config': {}},\n",
       "    'kernel_regularizer': None,\n",
       "    'bias_regularizer': None,\n",
       "    'activity_regularizer': None,\n",
       "    'kernel_constraint': None,\n",
       "    'bias_constraint': None}},\n",
       "  {'class_name': 'Dense',\n",
       "   'config': {'name': 'dense_1',\n",
       "    'trainable': True,\n",
       "    'dtype': 'float32',\n",
       "    'units': 8,\n",
       "    'activation': 'relu',\n",
       "    'use_bias': True,\n",
       "    'kernel_initializer': {'class_name': 'GlorotUniform',\n",
       "     'config': {'seed': None}},\n",
       "    'bias_initializer': {'class_name': 'Zeros', 'config': {}},\n",
       "    'kernel_regularizer': None,\n",
       "    'bias_regularizer': None,\n",
       "    'activity_regularizer': None,\n",
       "    'kernel_constraint': None,\n",
       "    'bias_constraint': None}},\n",
       "  {'class_name': 'Dense',\n",
       "   'config': {'name': 'dense_2',\n",
       "    'trainable': True,\n",
       "    'dtype': 'float32',\n",
       "    'units': 1,\n",
       "    'activation': 'sigmoid',\n",
       "    'use_bias': True,\n",
       "    'kernel_initializer': {'class_name': 'GlorotUniform',\n",
       "     'config': {'seed': None}},\n",
       "    'bias_initializer': {'class_name': 'Zeros', 'config': {}},\n",
       "    'kernel_regularizer': None,\n",
       "    'bias_regularizer': None,\n",
       "    'activity_regularizer': None,\n",
       "    'kernel_constraint': None,\n",
       "    'bias_constraint': None}}]}"
      ]
     },
     "execution_count": 11,
     "metadata": {},
     "output_type": "execute_result"
    }
   ],
   "source": [
    "# Model config\n",
    "model.get_config()"
   ]
  },
  {
   "cell_type": "code",
   "execution_count": 12,
   "metadata": {},
   "outputs": [
    {
     "data": {
      "text/plain": [
       "[array([[-0.44710854, -0.30395728, -0.07746944,  0.4503386 , -0.25470564,\n",
       "          0.05733132, -0.42585546,  0.3117351 , -0.36872774,  0.28735316,\n",
       "         -0.01536936,  0.04106337],\n",
       "        [-0.01825112, -0.0433732 ,  0.4393465 , -0.33840948,  0.20065367,\n",
       "          0.05276895, -0.43421957,  0.00854045, -0.31365556, -0.4260509 ,\n",
       "         -0.05483156, -0.3009355 ],\n",
       "        [-0.30180603, -0.4557447 ,  0.09894413,  0.473278  , -0.22538409,\n",
       "          0.4556418 , -0.41621712, -0.27164173, -0.27899158, -0.49290794,\n",
       "         -0.19280767,  0.32553768],\n",
       "        [-0.48638052, -0.11948815,  0.35592377, -0.38751066, -0.12500009,\n",
       "          0.4580887 ,  0.2993639 , -0.38990057,  0.48438197,  0.274033  ,\n",
       "         -0.43799174, -0.4023642 ],\n",
       "        [ 0.3629371 , -0.14030796, -0.08660877,  0.41329247, -0.10861295,\n",
       "          0.2557345 ,  0.20386374, -0.38927478,  0.2873367 , -0.5093638 ,\n",
       "          0.10937768, -0.0424163 ],\n",
       "        [-0.27363795,  0.16411912, -0.17781496, -0.48818094, -0.084057  ,\n",
       "          0.13772321,  0.22706395,  0.16819161, -0.43232602, -0.00551343,\n",
       "          0.23267603,  0.43433696],\n",
       "        [-0.36359257,  0.21429676, -0.13329053, -0.1095455 , -0.29698688,\n",
       "          0.29547894,  0.29423612, -0.48506758,  0.00497466,  0.11178833,\n",
       "          0.5050153 ,  0.0381586 ],\n",
       "        [ 0.49832064, -0.38294244, -0.47364014,  0.3432635 ,  0.3941316 ,\n",
       "         -0.24917665,  0.01395106, -0.08258235,  0.28750765, -0.23563057,\n",
       "          0.42248952, -0.02961159],\n",
       "        [ 0.20791924,  0.07271373, -0.3586387 , -0.24089766, -0.22301793,\n",
       "         -0.17404997,  0.5092959 , -0.02994052, -0.11247998, -0.34310836,\n",
       "         -0.33768493, -0.4030187 ],\n",
       "        [-0.22677132, -0.14187798, -0.0571751 , -0.19767594,  0.44026917,\n",
       "          0.08652496,  0.48197663, -0.3692157 ,  0.43605798,  0.21971446,\n",
       "          0.26661724,  0.18779844],\n",
       "        [ 0.0183695 , -0.31373045,  0.50088364, -0.12552944,  0.06535506,\n",
       "          0.16549933, -0.02675164,  0.42914283, -0.28767756,  0.15763766,\n",
       "          0.3532971 ,  0.38587892]], dtype=float32),\n",
       " array([0., 0., 0., 0., 0., 0., 0., 0., 0., 0., 0., 0.], dtype=float32),\n",
       " array([[ 0.12611943,  0.25131595,  0.05447435,  0.37132388, -0.37626582,\n",
       "         -0.24367371, -0.14369807,  0.5309298 ],\n",
       "        [ 0.06614232,  0.084997  ,  0.37880474, -0.42482078,  0.0024057 ,\n",
       "          0.27816427,  0.12141216, -0.1891846 ],\n",
       "        [ 0.29925317,  0.15073907,  0.1727395 , -0.00702047,  0.34774178,\n",
       "         -0.52291137, -0.51401776, -0.04072648],\n",
       "        [ 0.15750033, -0.20075959,  0.45854747,  0.0524407 , -0.09943265,\n",
       "          0.42127585, -0.17116317, -0.3030892 ],\n",
       "        [ 0.40330774, -0.09089956, -0.02486265,  0.09273303,  0.52487886,\n",
       "         -0.46175817,  0.11024344, -0.29190204],\n",
       "        [-0.34927243, -0.0728882 , -0.5398183 ,  0.3127132 , -0.09096119,\n",
       "         -0.515175  , -0.2819466 ,  0.34751105],\n",
       "        [-0.23222029,  0.03478742,  0.36191237,  0.3703829 ,  0.39761227,\n",
       "         -0.09998608, -0.4220875 , -0.35019177],\n",
       "        [ 0.08066398,  0.24252129,  0.38769978,  0.4876989 ,  0.33885145,\n",
       "         -0.05156708, -0.18736619,  0.03365231],\n",
       "        [-0.48165655,  0.39913338,  0.12066418,  0.3454299 , -0.11558732,\n",
       "         -0.23631394, -0.04227108,  0.02695256],\n",
       "        [ 0.4274273 , -0.22251022,  0.49954665,  0.4821173 ,  0.46634388,\n",
       "         -0.3074276 , -0.43762016, -0.06312951],\n",
       "        [ 0.38942587, -0.20077893, -0.09828192, -0.4722587 , -0.23978141,\n",
       "          0.1408062 ,  0.38398588, -0.3569064 ],\n",
       "        [ 0.22252977,  0.23775053, -0.20359805,  0.12410647,  0.03196687,\n",
       "          0.12593883, -0.0025987 , -0.00691539]], dtype=float32),\n",
       " array([0., 0., 0., 0., 0., 0., 0., 0.], dtype=float32),\n",
       " array([[ 0.630139  ],\n",
       "        [ 0.3221792 ],\n",
       "        [ 0.100927  ],\n",
       "        [-0.39504886],\n",
       "        [-0.65379643],\n",
       "        [-0.5691217 ],\n",
       "        [-0.21274251],\n",
       "        [ 0.52701247]], dtype=float32),\n",
       " array([0.], dtype=float32)]"
      ]
     },
     "execution_count": 12,
     "metadata": {},
     "output_type": "execute_result"
    }
   ],
   "source": [
    "# List all weight tensors \n",
    "model.get_weights()"
   ]
  },
  {
   "cell_type": "code",
   "execution_count": 13,
   "metadata": {},
   "outputs": [],
   "source": [
    "# Compile the model\n",
    "model.compile(loss='binary_crossentropy', optimizer='adam', metrics=['accuracy'])"
   ]
  },
  {
   "cell_type": "code",
   "execution_count": 14,
   "metadata": {},
   "outputs": [
    {
     "name": "stdout",
     "output_type": "stream",
     "text": [
      "Epoch 1/20\n",
      "4352/4352 [==============================] - 3s 705us/step - loss: 0.0722 - accuracy: 0.9860\n",
      "Epoch 2/20\n",
      "4352/4352 [==============================] - 3s 704us/step - loss: 0.0278 - accuracy: 0.9949\n",
      "Epoch 3/20\n",
      "4352/4352 [==============================] - 3s 703us/step - loss: 0.0214 - accuracy: 0.9956\n",
      "Epoch 4/20\n",
      "4352/4352 [==============================] - 3s 709us/step - loss: 0.0188 - accuracy: 0.9959\n",
      "Epoch 5/20\n",
      "4352/4352 [==============================] - 3s 708us/step - loss: 0.0228 - accuracy: 0.9961\n",
      "Epoch 6/20\n",
      "4352/4352 [==============================] - 3s 704us/step - loss: 0.0187 - accuracy: 0.9968\n",
      "Epoch 7/20\n",
      "4352/4352 [==============================] - 3s 712us/step - loss: 0.0176 - accuracy: 0.9972\n",
      "Epoch 8/20\n",
      "4352/4352 [==============================] - 3s 710us/step - loss: 0.0149 - accuracy: 0.9975\n",
      "Epoch 9/20\n",
      "4352/4352 [==============================] - 3s 704us/step - loss: 0.0146 - accuracy: 0.9975\n",
      "Epoch 10/20\n",
      "4352/4352 [==============================] - 3s 732us/step - loss: 0.0152 - accuracy: 0.9970\n",
      "Epoch 11/20\n",
      "4352/4352 [==============================] - 3s 760us/step - loss: 0.0128 - accuracy: 0.9979\n",
      "Epoch 12/20\n",
      "4352/4352 [==============================] - 3s 747us/step - loss: 0.0125 - accuracy: 0.9977\n",
      "Epoch 13/20\n",
      "4352/4352 [==============================] - 3s 753us/step - loss: 0.0139 - accuracy: 0.9970\n",
      "Epoch 14/20\n",
      "4352/4352 [==============================] - 3s 784us/step - loss: 0.0121 - accuracy: 0.9977\n",
      "Epoch 15/20\n",
      "4352/4352 [==============================] - 3s 798us/step - loss: 0.0133 - accuracy: 0.9977\n",
      "Epoch 16/20\n",
      "4352/4352 [==============================] - 3s 799us/step - loss: 0.0107 - accuracy: 0.9979\n",
      "Epoch 17/20\n",
      "4352/4352 [==============================] - 4s 842us/step - loss: 0.0104 - accuracy: 0.9977\n",
      "Epoch 18/20\n",
      "4352/4352 [==============================] - 4s 837us/step - loss: 0.0105 - accuracy: 0.9977\n",
      "Epoch 19/20\n",
      "4352/4352 [==============================] - 4s 842us/step - loss: 0.0105 - accuracy: 0.9977\n",
      "Epoch 20/20\n",
      "4352/4352 [==============================] - 4s 823us/step - loss: 0.0100 - accuracy: 0.9979\n"
     ]
    },
    {
     "data": {
      "text/plain": [
       "<tensorflow.python.keras.callbacks.History at 0x25631eb69a0>"
      ]
     },
     "execution_count": 14,
     "metadata": {},
     "output_type": "execute_result"
    }
   ],
   "source": [
    "# Fit the model on the training data\n",
    "model.fit(X_train, y_train,epochs=20, batch_size=1, verbose=1)"
   ]
  },
  {
   "cell_type": "code",
   "execution_count": 15,
   "metadata": {},
   "outputs": [
    {
     "data": {
      "text/plain": [
       "array([0, 1, 0, 0, 0], dtype=int64)"
      ]
     },
     "execution_count": 15,
     "metadata": {},
     "output_type": "execute_result"
    }
   ],
   "source": [
    "# Making predictions on the test data\n",
    "y_pred = model.predict(X_test)\n",
    "\n",
    "# Checking the prediction made by the model\n",
    "y_test[:5]"
   ]
  },
  {
   "cell_type": "code",
   "execution_count": 16,
   "metadata": {},
   "outputs": [
    {
     "name": "stdout",
     "output_type": "stream",
     "text": [
      "68/68 [==============================] - 0s 706us/step - loss: 0.0270 - accuracy: 0.9953\n",
      "Accuracy:  99.5\n"
     ]
    }
   ],
   "source": [
    "# Scoring the prediction by conparing with the y_test data\n",
    "score = model.evaluate(X_test, y_test,verbose=1)\n",
    "print(\"Accuracy: \", round(score[1]*100,1))"
   ]
  },
  {
   "cell_type": "code",
   "execution_count": null,
   "metadata": {},
   "outputs": [],
   "source": []
  }
 ],
 "metadata": {
  "kernelspec": {
   "display_name": "Python 3",
   "language": "python",
   "name": "python3"
  },
  "language_info": {
   "codemirror_mode": {
    "name": "ipython",
    "version": 3
   },
   "file_extension": ".py",
   "mimetype": "text/x-python",
   "name": "python",
   "nbconvert_exporter": "python",
   "pygments_lexer": "ipython3",
   "version": "3.8.3"
  }
 },
 "nbformat": 4,
 "nbformat_minor": 4
}
